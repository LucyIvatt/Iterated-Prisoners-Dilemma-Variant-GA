{
 "cells": [
  {
   "cell_type": "markdown",
   "metadata": {},
   "source": [
    "# Society-based Cooperation - EVAC Assessment 2"
   ]
  },
  {
   "cell_type": "markdown",
   "metadata": {},
   "source": [
    "## Design - Agent Representation\n",
    "\n",
    "To begin with, each agent needs to be able to encode and store an evolvable strategy.\n",
    "\n",
    "When defining an agents memory, there are $n^{2m}$ possible cases, where n is the number of societies types and m is the number of games each agent is allowed to remember. In this proposed solution, each agent will have a memory of 1 match, therefore there are $4^2=16$ possibilities.\n",
    "\n",
    "The encoded strategy is simply a rule which specifies the action the agent should take in each of these 16 cases. In the context of this problem, the action to take is defined as the society the agent should switch to.\n",
    "\n",
    " An example subsection of this strategy is shown in the table below. \n",
    "\n",
    "| Memory              | Strategy (Society to switch to)       |\n",
    "| ------------------  | ------------------------------------  |\n",
    "| (Saint, Saint)      | Buddy                                 |\n",
    "| (Saint, Buddy)      | Vandal                                |\n",
    "| (Saint, Fight Club) | Saint                                 |\n",
    "| (Saint, Vandal)     | Saint                                 |\n",
    "| ...                 | ...                                   |\n",
    "| (Vandal, Vandal)    | Fight Club                            |\n",
    "\n",
    "\n",
    "This strategy can be expressed compactly as a list of length $4^2$ (e.g. `[Buddy, Vandal, Saint, Saint, ..., Fight Club]`). Therefore each agent must be able to find the index for the chromosome from the remembered match pairing.\n",
    "\n",
    "Rather than generating a lookup table which maps society pairings to chromosome indexes, e.g. `{(Saint, Saint) = 0, (Saint, Buddy) = 1, ... (Vandal, Vandal) = 15}`, a faster method which also uses less memory is to map each society to a number between 0 and 3 and use the base 4 integer value of the pairing to access the chomosome. For example, with the assignments `{Saints: 0, Buddies: 1, Fight Club: 2, Vandals: 3}` the following indexes are obtained.\n",
    "\n",
    "- (Saint, Saint) = $00_4$ maps to index 0\n",
    "- (Saint, Buddy) = $01_4$ maps to index 1\n",
    "- (Saint, Fight Club) = $02_4$ maps to index 2\n",
    "- ...\n",
    "- (Vandal, Vandal) = $33_4$ maps to index 15\n",
    "\n",
    "**Summary**\n",
    "\n",
    "To summarize, each agent will have a memory of 1 match, a pairing of the agents current faction and the opponent's faction. The base 4 representation of this matching will be used as the index to access the agents chromosome/strategy. This is represented as list of length 16 where each gene represents a society to switch to. \n"
   ]
  },
  {
   "cell_type": "markdown",
   "metadata": {},
   "source": [
    "## Code - Setup\n",
    "The following code imports any libraries needed to run the genetic algorithm, including the Distributed Evolutionary Algorithms in Python (DEAP) library which is an evolutionary computation framework allowing for rapid prototyping and testing of ideas. \n",
    "\n",
    "NumPy and Matplotlib are used for statistical analysis and visualisation of the genetic algorithms performance.\n",
    "\n",
    "A seed in the random module has been set to ensure the submitted PDF matches the provided colab notebook.\n",
    "\n",
    "An Enum for the societies has also been defined so they can be easily referenced throughout the program. Each one is assigned a string value between 0 to 3 due to the explanation provided in **Design - Agent Representation**."
   ]
  },
  {
   "cell_type": "code",
   "execution_count": 8,
   "metadata": {},
   "outputs": [
    {
     "name": "stdout",
     "output_type": "stream",
     "text": [
      "Requirement already satisfied: deap in c:\\users\\lucea\\appdata\\local\\programs\\python\\python310\\lib\\site-packages (1.3.1)\n",
      "Requirement already satisfied: numpy in c:\\users\\lucea\\appdata\\local\\programs\\python\\python310\\lib\\site-packages (from deap) (1.22.3)\n"
     ]
    }
   ],
   "source": [
    "!pip install deap "
   ]
  },
  {
   "cell_type": "code",
   "execution_count": 9,
   "metadata": {},
   "outputs": [],
   "source": [
    "import random\n",
    "import time\n",
    "\n",
    "from deap import creator, base, tools\n",
    "from collections import Counter\n",
    "from enum import Enum\n",
    "\n",
    "import numpy as np\n",
    "import matplotlib.pyplot as plt\n",
    "%matplotlib inline\n",
    "\n",
    "IND_SIZE = 4**2\n",
    "\n",
    "random.seed(100)\n",
    "\n",
    "class Society(Enum):\n",
    "    \"\"\" Enum which represents all possible societies that agents can join\"\"\"\n",
    "    SAINTS = \"0\"\n",
    "    BUDDIES = \"1\"\n",
    "    FIGHT_CLUB = \"2\"\n",
    "    VANDALS = \"3\""
   ]
  },
  {
   "cell_type": "markdown",
   "metadata": {},
   "source": [
    "## Code - The Game\n",
    "The following code is used for the main game logic. This plays a round, determines the outcomes and updates the agents as required. "
   ]
  },
  {
   "cell_type": "code",
   "execution_count": 10,
   "metadata": {},
   "outputs": [],
   "source": [
    "# Dictionary which maps society pairings to their respective payoff amounts. \n",
    "OUTCOMES = {\n",
    "    # Saints cooperate with everyone\n",
    "    (Society.SAINTS, Society.SAINTS):           (4,4), # Both cooperate\n",
    "    (Society.SAINTS, Society.BUDDIES):          (0,6), # Buddies are selfish\n",
    "    (Society.SAINTS, Society.FIGHT_CLUB):       (4,4), # Both cooperate\n",
    "    (Society.SAINTS, Society.VANDALS):          (0,6), # Vandals are selfish\n",
    "\n",
    "    # Buddies only cooperate with each other\n",
    "    (Society.BUDDIES, Society.SAINTS):          (6,0), # Buddies are selfish\n",
    "    (Society.BUDDIES, Society.BUDDIES):         (4,4), # Both cooperate\n",
    "    (Society.BUDDIES, Society.FIGHT_CLUB):      (6,0), # Buddies are selfish\n",
    "    (Society.BUDDIES, Society.VANDALS):         (1,1), # Both selfish\n",
    "    \n",
    "    # Fight club cooperate with everyone but themselves\n",
    "    (Society.FIGHT_CLUB, Society.SAINTS):       (4,4), # Both cooperate\n",
    "    (Society.FIGHT_CLUB, Society.BUDDIES):      (0,6), # Buddies are selfish\n",
    "    (Society.FIGHT_CLUB, Society.FIGHT_CLUB):   (1,1), # Both selfish\n",
    "    (Society.FIGHT_CLUB, Society.VANDALS):      (0,6), # Vandals are selfish\n",
    "    \n",
    "    # Vandals cooperate with no one\n",
    "    (Society.VANDALS, Society.SAINTS):          (6,0), # Vandals are selfish\n",
    "    (Society.VANDALS, Society.BUDDIES):         (1,1), # Both selfish\n",
    "    (Society.VANDALS, Society.FIGHT_CLUB):      (6,0), # Vandals are selfish\n",
    "    (Society.VANDALS, Society.VANDALS):         (1,1), # Both selfish\n",
    "}\n",
    "\n",
    "def play_round(indiv1, indiv2):\n",
    "    '''Updates each individual depending on the outcome of the round played'''\n",
    "\n",
    "    # Increments each individuals rounds_played attribute\n",
    "    indiv1.rounds_played += 1\n",
    "    indiv2.rounds_played += 1\n",
    "    \n",
    "    # Increases each individuals wealth by the appropriate payoff\n",
    "    payoffs = OUTCOMES[(indiv1.society, indiv2.society)]\n",
    "    indiv1.total_score += payoffs[0]\n",
    "    indiv2.total_score += payoffs[1]\n",
    "\n",
    "    # Queries each agents chromosome using base 4 representations of the match to decide what society to switch to.\n",
    "    new_match = str(indiv1.society.value)+(indiv2.society.value)\n",
    "    chr1_index = int(new_match, base=4)\n",
    "    indiv1.society = Society(indiv1[chr1_index])\n",
    "    chr2_index = int(new_match[::-1], base=4)\n",
    "    indiv2.society = Society(indiv2[chr2_index])"
   ]
  },
  {
   "cell_type": "markdown",
   "metadata": {},
   "source": [
    "## Design - Adaption & Evolution\n",
    "Using the previously defined agent strategy representation, the following genetic algorithm has been proposed to evolve this representation to maximise the agents total payoff over the course of the whole simulation.\n",
    "\n",
    "### Population Generation\n",
    "Firstly, a population needs to be generated. This is done by creating lists of length 16 and populating each of them randomly with societies. \n",
    "\n",
    "The population number chosen is 2000.\n",
    "\n",
    "### Evaluation & Fitness\n",
    "For every generation of the algorithm, including the first population, all agents needs to be evaluated to determine their fitness. \n",
    "\n",
    "For $N$ rounds, two agents are randomly selected and play each other. Each time agents play each other, their `rounds_played` attribute is incremented by 1, their `total_score` is increased by the relevant payoff, and they both change society depending on their chromosomes value for that matchup of societies.\n",
    "\n",
    "Once the entire game is complete, the fitness for each agent needs to be calculated. As the game selects the agents who play each round completely randomly, there is likely to be an unfair difference between the total wealths of each agent. For example, an agent who has played 1 round and has a wealth of 6, should not have the same fitness as an agent who has played 6 rounds and also has a wealth of 6. \n",
    "\n",
    "Therefore, the fitness of each agent is defined by the agents total wealth divided by the number of rounds it has played. This is shown by the following function.\n",
    "\n",
    "$fitness(agent) =  \\frac{agent_{total\\_score}}{agent_{rounds\\_played}}$\n"
   ]
  },
  {
   "cell_type": "markdown",
   "metadata": {},
   "source": [
    "### Selection\n",
    "\n",
    "Once the fitnesses have been calculated for all agents, a new population needs to be selected. The method of selection used is tournament selection. This selects a specified number of agents and takes the one with the highest fitness value from the tournament and adds it to the new population. **The tournament size is set to  200**. A diagram showing this method of selection is provided below.\n",
    "\n",
    "![](images/selection.png)\n",
    "\n",
    "### Crossover\n",
    "Crossover is then performed on the selected agents. The method of crossover selected is two point crossover where two points are picked randomly from the parent chromosomes. The societies in between the two points are swapped between the parent organisms. **The probability of this crossover occurring per agent is set to 0.15.** A diagram of an example of this crossover is provided below. \n",
    "\n",
    "![](images/crossover.png)\n",
    "\n",
    "### Mutation\n",
    "Mutation is then performed on the agents produced by the crossover step. The method of mutation chosen is the shuffle indexes method, where if a gene is chosen to be mutated, it is swapped with a random gene elsewhere in the chromosome. **The probability of this mutation occurring per gene is set to 0.05.** An example of this mutation is provided in the diagram below.\n",
    "\n",
    "![](images/mutation.png)\n",
    "\n",
    "### Population Reset & Re-evaluation\n",
    "As the agents chromosomes have been changed, their attributes must be reset and their fitnesses re-evaluated using the method described previously. This process then occurs for a defined number of generations. **The number of generations has been set to 200.** A flowchart showing the overall design of the procedure is provided below. \n",
    "\n",
    "![](images/flowchart.png)\n",
    "\n"
   ]
  },
  {
   "cell_type": "markdown",
   "metadata": {},
   "source": [
    "## Code - Adaption & Evolution\n",
    "The following code implements the design as mentioned previously. It generates the initial population, evaluates their fitness and performs selection, mutation and crossover over multiple generations."
   ]
  },
  {
   "cell_type": "code",
   "execution_count": 11,
   "metadata": {},
   "outputs": [],
   "source": [
    "def reset_population(population):\n",
    "    '''Resets all agent's attributes prior to evaluation'''\n",
    "    for indiv in population:\n",
    "        indiv.total_score = 0\n",
    "        indiv.rounds_played = 0\n",
    "        indiv.society = random.choice(list(Society))\n",
    "        indiv.history = \"\".join([random.choice([society.value for society in Society]) for i in range(2)])\n",
    "\n",
    "def evaluate_agents(population, num_rounds):\n",
    "    '''Runs the game and sets each agents fitness depending on the outcome'''\n",
    "    for i in range(num_rounds):\n",
    "        indiv1 = random.choice(population)\n",
    "        indiv2 = random.choice(population)\n",
    "        while indiv2 == indiv1:\n",
    "            indiv2 = random.choice(population)\n",
    "        play_round(indiv1, indiv2)\n",
    "    \n",
    "    for ind in population:\n",
    "        if ind.rounds_played == 0:\n",
    "            ind.fitness.values = 0,\n",
    "        else:\n",
    "            ind.fitness.values = ind.total_score / ind.rounds_played,\n",
    "\n",
    "def run_GA(gen_num=200, pop_num=20, round_num=400, mut_prob=0.021, cx_prob=0.15, tourn_size=5, headless=True):\n",
    "    '''Runs the genetic algorithm and returns the statistics from the run'''\n",
    "\n",
    "    start_time = time.time()\n",
    "\n",
    "    # Sets the fitness to maximise as each agent wants to maximise its income\n",
    "    creator.create(\"FitnessMax\", base.Fitness, weights=(1.0,))\n",
    "\n",
    "    # Defines class for each Individual with the chromosome as a list and fitness as maximizing. Also defines the attributes each agent will require. \n",
    "    creator.create(\"Individual\", list, fitness=creator.FitnessMax, total_score=0, rounds_played=0, society=Society.SAINTS, history = \"00\")\n",
    "\n",
    "    toolbox = base.Toolbox()\n",
    "\n",
    "    # Registers function to create a gene with the value \"0\", \"1\", \"2\", \"3\" to represent each society.\n",
    "    toolbox.register(\"attr_str\", random.choice, [society.value for society in Society])\n",
    "\n",
    "    # Registers function which creates an Individual with 16 random genes.\n",
    "    toolbox.register(\"individual\", tools.initRepeat, creator.Individual, toolbox.attr_str, n = 16)\n",
    "\n",
    "    # Registers function to select, crossover and mutate individuals\n",
    "    toolbox.register(\"select\", tools.selTournament, tournsize=tourn_size)\n",
    "    toolbox.register(\"crossover\", tools.cxTwoPoint)\n",
    "    toolbox.register(\"mutate\", tools.mutShuffleIndexes, indpb=mut_prob)\n",
    "\n",
    "    # Registers the function to create a population as a list of individuals\n",
    "    toolbox.register(\"population\", tools.initRepeat, list, toolbox.individual)\n",
    "\n",
    "    # Regisers the manually created functions to evaluate and reset the population\n",
    "    toolbox.register(\"evaluate\", evaluate_agents)\n",
    "    toolbox.register(\"reset_population\", reset_population)\n",
    "\n",
    "    # Registers the statistics & logbook that will be logged during the GA\n",
    "    stats = tools.Statistics(key=lambda ind: ind.fitness.values)\n",
    "    stats.register(\"mean\", np.mean)\n",
    "    stats.register(\"std\", np.std)\n",
    "    stats.register(\"median\", np.median)\n",
    "    stats.register(\"min\", np.min)\n",
    "    stats.register(\"max\", np.max)\n",
    "    logbook = tools.Logbook()\n",
    "\n",
    "    # Creates initial population\n",
    "    population = toolbox.population(pop_num)\n",
    "\n",
    "    # Resets population to prevent bias as deap creates all agents with same society and history attributes. \n",
    "    toolbox.reset_population(population)\n",
    "\n",
    "    # Evaluates the initial population\n",
    "    toolbox.evaluate(population, round_num)\n",
    "\n",
    "    # Initializes dictionary to count number of agent per society in each generation\n",
    "    counts = {\n",
    "        Society.SAINTS: [],\n",
    "        Society.BUDDIES: [],\n",
    "        Society.FIGHT_CLUB: [],\n",
    "        Society.VANDALS: []\n",
    "    }\n",
    "\n",
    "    for g in range(gen_num):\n",
    "        print(f\"-- Running Generation {g+1}/{gen_num} --       \", end='\\r')\n",
    "\n",
    "        # Selects new population and clones all individuals due to duplicates.\n",
    "        offspring = toolbox.select(population, len(population))\n",
    "        offspring = list(map(toolbox.clone, offspring))\n",
    "\n",
    "        # Performs crossover on 2 individuals based on crossover probability\n",
    "        for indiv1, indiv2 in zip(offspring[::2], offspring[1::2]):\n",
    "            if random.random() < cx_prob:\n",
    "                toolbox.crossover(indiv1, indiv2)\n",
    "\n",
    "        # Mutates offspring based on mutation probability\n",
    "        for mutant in offspring:\n",
    "            toolbox.mutate(mutant)\n",
    "        \n",
    "        # Resets agent attributes and fitness values\n",
    "        toolbox.reset_population(offspring)\n",
    "\n",
    "        # Recalculates fitness values for mutated offspring\n",
    "        toolbox.evaluate(offspring, round_num)\n",
    "\n",
    "        # Replaces old population with new mutated offspring\n",
    "        population[:] = offspring\n",
    "\n",
    "        # Compiles & records the statistics for the new generation\n",
    "        record = stats.compile(population)\n",
    "        logbook.record(gen=g, **record)\n",
    "        assignments = [indiv.society for indiv in population]\n",
    "        for society in Society:\n",
    "            counts[society].append(assignments.count(society))\n",
    "    \n",
    "    print(f\"\\nExecution Time - {time.time()-start_time:.2f}s\")\n",
    "\n",
    "    return logbook, counts\n"
   ]
  },
  {
   "cell_type": "code",
   "execution_count": 12,
   "metadata": {},
   "outputs": [
    {
     "name": "stderr",
     "output_type": "stream",
     "text": [
      "C:\\Users\\lucea\\AppData\\Local\\Programs\\Python\\Python310\\lib\\site-packages\\deap\\creator.py:138: RuntimeWarning: A class named 'FitnessMax' has already been created and it will be overwritten. Consider deleting previous creation of that class or rename it.\n",
      "  warnings.warn(\"A class named '{0}' has already been created and it \"\n",
      "C:\\Users\\lucea\\AppData\\Local\\Programs\\Python\\Python310\\lib\\site-packages\\deap\\creator.py:138: RuntimeWarning: A class named 'Individual' has already been created and it will be overwritten. Consider deleting previous creation of that class or rename it.\n",
      "  warnings.warn(\"A class named '{0}' has already been created and it \"\n"
     ]
    },
    {
     "name": "stdout",
     "output_type": "stream",
     "text": [
      "Execution Time - 65.53s00/200 --       \n"
     ]
    }
   ],
   "source": [
    "lb, counts = run_GA(gen_num=200, pop_num=2000, round_num=10000, mut_prob=0.05, cx_prob=0.15, tourn_size=200, headless=True)"
   ]
  },
  {
   "cell_type": "markdown",
   "metadata": {},
   "source": [
    "## Design - Evaluation Procedure\n",
    "Explain the evaluation procedure here"
   ]
  },
  {
   "cell_type": "markdown",
   "metadata": {},
   "source": [
    "## Code - Evaluation Procedure \n",
    "The following code is used to perform the previously described evaluation procedure for the genetic algorithm against non-adaptive behaviour. "
   ]
  },
  {
   "cell_type": "code",
   "execution_count": 13,
   "metadata": {},
   "outputs": [],
   "source": [
    "def draw_graphs(logbook, counts):\n",
    "    gens = logbook.select(\"gen\")\n",
    "    means = logbook.select(\"mean\")\n",
    "\n",
    "    fig, (ax1, ax2) = plt.subplots(1, 2)\n",
    "    fig.set_size_inches(14, 8)\n",
    "    fig.suptitle(\"Society Based Cooperation\")\n",
    "\n",
    "    ax1.set_title(\"Fitness Stats\")\n",
    "    ax1.plot(gens, means, lw=3, color=\"red\")\n",
    "\n",
    "    ax2.set_title(\"Assignment Counts\")\n",
    "    ax2.plot(gens, counts[Society.SAINTS], lw=2, color=\"green\", label=\"Saints\")\n",
    "    ax2.plot(gens, counts[Society.BUDDIES], lw=2, color=\"lightblue\", label=\"Buddies\")\n",
    "    ax2.plot(gens, counts[Society.FIGHT_CLUB], lw=2, color=\"orange\", label=\"Fight Club\")\n",
    "    ax2.plot(gens, counts[Society.VANDALS], lw=2, color=\"red\", label=\"Vandals\")\n",
    "    ax2.legend\n",
    "\n",
    "    plt.show()"
   ]
  },
  {
   "cell_type": "code",
   "execution_count": 14,
   "metadata": {},
   "outputs": [
    {
     "data": {
      "image/png": "[encoded data removed]",
      "text/plain": [
       "<Figure size 1008x576 with 2 Axes>"
      ]
     },
     "metadata": {
      "needs_background": "light"
     },
     "output_type": "display_data"
    }
   ],
   "source": [
    "draw_graphs(lb, counts)"
   ]
  }
 ],
 "metadata": {
  "interpreter": {
   "hash": "7c6d2f17150899d8bde5b063b5b1db4e9d9b72bbf5a60a5beab3ff4a3a1bcd35"
  },
  "kernelspec": {
   "display_name": "Python 3.10.0 64-bit",
   "language": "python",
   "name": "python3"
  },
  "language_info": {
   "codemirror_mode": {
    "name": "ipython",
    "version": 3
   },
   "file_extension": ".py",
   "mimetype": "text/x-python",
   "name": "python",
   "nbconvert_exporter": "python",
   "pygments_lexer": "ipython3",
   "version": "3.10.2"
  },
  "orig_nbformat": 4
 },
 "nbformat": 4,
 "nbformat_minor": 2
}
