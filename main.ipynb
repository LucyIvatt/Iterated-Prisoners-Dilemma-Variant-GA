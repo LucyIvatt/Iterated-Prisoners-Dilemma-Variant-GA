{
 "cells": [
  {
   "cell_type": "markdown",
   "metadata": {},
   "source": [
    "# EVAC Assessment 2 - Society-based Cooperation"
   ]
  },
  {
   "cell_type": "code",
   "execution_count": null,
   "metadata": {},
   "outputs": [],
   "source": [
    "import random\n",
    "from enums import Society\n",
    "from deap import creator, base, tools\n",
    "import itertools\n",
    "import logging"
   ]
  },
  {
   "cell_type": "code",
   "execution_count": null,
   "metadata": {},
   "outputs": [],
   "source": [
    "OUTCOMES = {\n",
    "    # Saints cooperate with everyone\n",
    "    (Society.SAINTS, Society.SAINTS):           (4,4), # Both cooperate\n",
    "    (Society.SAINTS, Society.BUDDIES):          (0,6), # Buddies are selfish\n",
    "    (Society.SAINTS, Society.FIGHT_CLUB):       (4,4), # Both cooperate\n",
    "    (Society.SAINTS, Society.VANDALS):          (0,6), # Vandals are selfish\n",
    "\n",
    "    # Buddies only cooperate with each other\n",
    "    (Society.BUDDIES, Society.SAINTS):          (6,0), # Buddies are selfish\n",
    "    (Society.BUDDIES, Society.BUDDIES):         (4,4), # Both cooperate\n",
    "    (Society.BUDDIES, Society.FIGHT_CLUB):      (6,0), # Buddies are selfish\n",
    "    (Society.BUDDIES, Society.VANDALS):         (1,1), # Both selfish\n",
    "    \n",
    "    # Fight club cooperate with everyone but themselves\n",
    "    (Society.FIGHT_CLUB, Society.SAINTS):       (4,4), # Both cooperate\n",
    "    (Society.FIGHT_CLUB, Society.BUDDIES):      (0,6), # Buddies are selfish\n",
    "    (Society.FIGHT_CLUB, Society.FIGHT_CLUB):   (1,1), # Both selfish\n",
    "    (Society.FIGHT_CLUB, Society.VANDALS):      (0,6), # Vandals are selfish\n",
    "    \n",
    "    # Vandals cooperate with no one\n",
    "    (Society.VANDALS, Society.SAINTS):          (6,0), # Vandals are selfish\n",
    "    (Society.VANDALS, Society.BUDDIES):         (1,1), # Both selfish\n",
    "    (Society.VANDALS, Society.FIGHT_CLUB):      (6,0), # Vandals are selfish\n",
    "    (Society.VANDALS, Society.VANDALS):         (1,1), # Both selfish\n",
    "}"
   ]
  },
  {
   "cell_type": "code",
   "execution_count": null,
   "metadata": {},
   "outputs": [],
   "source": [
    "IND_SIZE = 4**6 # will actually be 4^6\n",
    "POP_SIZE = 5\n",
    "NUM_ROUNDS = 1\n",
    "\n",
    "def reset_individuals(population):\n",
    "    for indiv in population:\n",
    "        indiv.total_score = 0\n",
    "        indiv.rounds_played = 0\n",
    "        indiv.society = random.choice(list(Society))\n",
    "        indiv.history = [random.choice([society.value for society in Society]) for i in range(6)]\n",
    "\n",
    "\n",
    "def play_round(indiv1, indiv2):\n",
    "    indiv1.rounds_played += 1\n",
    "    indiv2.rounds_played += 1\n",
    "    \n",
    "    payoffs = ROUND_OUTCOMES[(indiv1.society, indiv2.society)]\n",
    "    indiv1.total_score += payoffs[0]\n",
    "    indiv2.total_score += payoffs[1]\n",
    "\n",
    "    new_match = [indiv1.society.value, indiv2.society.value]\n",
    "    indiv1.history = indiv1.history[2:6] + new_match\n",
    "    indiv2.history = indiv2.history[2:6] + new_match[::-1]\n",
    "\n",
    "    chr1_index = HISTORY_LOOKUP[tuple(indiv1.history)]\n",
    "    indiv1.society = Society(indiv1[chr1_index])\n",
    "\n",
    "    chr2_index = HISTORY_LOOKUP[tuple(indiv2.history)]\n",
    "    indiv2.society = Society(indiv1[chr2_index])\n",
    "\n",
    "def evaluate_agents(population):\n",
    "    logging.info(\"Running the game\")\n",
    "    for i in range(NUM_ROUNDS):\n",
    "        indiv1 = random.choice(population)\n",
    "        indiv2 = random.choice(population)\n",
    "        while indiv2 == indiv1:\n",
    "            indiv2 = random.choice(population)\n",
    "\n",
    "        print_indiv(indiv1)\n",
    "        print_indiv(indiv2)\n",
    "        print(\"------------\")\n",
    "        play_round(indiv1, indiv2)\n",
    "        print_indiv(indiv1)\n",
    "        print_indiv(indiv2)\n",
    "\n",
    "def print_indiv(indiv):\n",
    "    print(\"~~~~~~~~~~~~~~~~~~~~~~~\")\n",
    "    print(f\"{indiv.total_score=}\")\n",
    "    print(f\"{indiv.rounds_played=}\")\n",
    "    print(f\"{indiv.society=}\")\n",
    "    print(f\"{indiv.history=}\")\n",
    "    print(\"~~~~~~~~~~~~~~~~~~~~~~~\")\n",
    "\n",
    "creator.create(\"FitnessMax\", base.Fitness, weights=(1.0,))\n",
    "creator.create(\"Individual\", list, fitness=creator.FitnessMax, \n",
    "    total_score=0, rounds_played=0, society=Society.SAINTS, \n",
    "    history = [0 for i in range(6)])\n",
    "\n",
    "toolbox = base.Toolbox()\n",
    "toolbox.register(\"int_attribute\", random.choice, [society.value for society in Society])\n",
    "\n",
    "toolbox.register(\"individual\", tools.initRepeat, creator.Individual, toolbox.int_attribute, n = IND_SIZE)\n",
    "\n",
    "toolbox.register(\"population\", tools.initRepeat, list, toolbox.individual)\n",
    "toolbox.register(\"evaluate\", evaluate_agents)\n",
    "\n",
    "toolbox.register(\"selectTournament\", tools.selTournament, tournsize = 2)\n",
    "\n",
    "toolbox.register(\"mateTwoPoints\", tools.cxTwoPoint)\n",
    "toolbox.register(\"mutateShuffleIndexes\", tools.mutShuffleIndexes, indpb = 0.05)\n",
    "\n",
    "population = toolbox.population(POP_SIZE)\n",
    "reset_individuals(population)\n",
    "toolbox.evaluate(population)\n",
    "best = tools.selBest(population, 1)"
   ]
  },
  {
   "cell_type": "markdown",
   "metadata": {},
   "source": []
  },
  {
   "cell_type": "markdown",
   "metadata": {},
   "source": []
  }
 ],
 "metadata": {
  "interpreter": {
   "hash": "7c6d2f17150899d8bde5b063b5b1db4e9d9b72bbf5a60a5beab3ff4a3a1bcd35"
  },
  "kernelspec": {
   "display_name": "Python 3.10.0 64-bit",
   "language": "python",
   "name": "python3"
  },
  "language_info": {
   "codemirror_mode": {
    "name": "ipython",
    "version": 3
   },
   "file_extension": ".py",
   "mimetype": "text/x-python",
   "name": "python",
   "nbconvert_exporter": "python",
   "pygments_lexer": "ipython3",
   "version": "3.10.0"
  },
  "orig_nbformat": 4
 },
 "nbformat": 4,
 "nbformat_minor": 2
}
